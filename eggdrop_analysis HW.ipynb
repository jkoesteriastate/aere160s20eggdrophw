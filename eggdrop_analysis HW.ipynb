{
 "cells": [
  {
   "cell_type": "markdown",
   "metadata": {},
   "source": [
    "# AerE 160 HW 3, Spring 2020\n",
    "\n",
    "Name: (edit this cell and put your name, ISU email address, section # and lab TA  here)\n",
    "\n",
    "ISU Email: \n",
    "\n",
    "Section #: \n",
    "\n",
    "Tip: In each cell, press **shift-enter** to execute that cell and go onto the next one. \n",
    "\n",
    "<div class=\"alert alert-block alert-danger\"> Make sure you upload this notebook as an HTML in Canvas.  This is due: @ 11:59 p.m.</div>\n",
    "<div class=\"alert alert-block alert-info\"> <b>Hint for debugging</b>.  Remember, that as you run this notebook, values may still remain as the Python engine is running in the background.  If you get weird results, you can go to Kernel->Restart or Kernel->Restart and Clear Outputs.  This will give you a fresh start and will clear any values stored in variables. </div>\n",
    "<div class=\"alert alert-block alert-info\"> Total points: 50  Extra Credit: +12</div>"
   ]
  },
  {
   "cell_type": "markdown",
   "metadata": {},
   "source": [
    "# E.G.G. Drop Data Analysis\n",
    "![ohm.jpg](https://www.m00nie.com/content/images/2019/05/egg.jpg)\n",
    "\n",
    "You might recall that you did a lab where you need to build a contraption to prevent your E.G.G. from breaking.  Of course, we didn't use real eggs, we used an electronic one.  For the lab, you were told if the egg broke or not becuase the E.G.G. told you.  What you might not remember is that we mentioned that the E.G.G. is equipped with an accelerometer and that the E.G.G. was also recording each drop.  It recorded acceleration in the X, Y and Z direction, measurements from a light sensor and measurements from a temperature sensor.  For this homework, you will examine and graph this data and then determien for yourself if each group actually broke or not.\n",
    "\n",
    "<div class=\"alert alert-block alert-danger\"> Some eggs were harmed in the making of this homework.</div>"
   ]
  },
  {
   "cell_type": "markdown",
   "metadata": {},
   "source": [
    "### In the beginning...\n",
    "Like anything with Python, we need to import the libraries and functions we want to use.  For this homework, we will use Pandas, Numpy, and Matplotlib.  I have imported what you should need below, but make sure you note the new names I gave those.  "
   ]
  },
  {
   "cell_type": "code",
   "execution_count": null,
   "metadata": {
    "colab": {},
    "colab_type": "code",
    "id": "DpdwuBfCfNJR"
   },
   "outputs": [],
   "source": [
    "import pandas as pd\n",
    "import math\n",
    "import numpy as np\n",
    "import matplotlib.pyplot as plt"
   ]
  },
  {
   "cell_type": "markdown",
   "metadata": {},
   "source": [
    "### Reading in data\n",
    "We will use Pandas to read in the data.  You should have 5 files included in the zip file for this homework.  They shoudl be as follows:\n",
    "\n",
    "```\n",
    "Group1_eggdrop.csv\n",
    "Group2_eggdrop.csv\n",
    "Group3_eggdrop.csv\n",
    "Group4_eggdrop.csv\n",
    "Group5_eggdrop.csv\n",
    "```\n",
    "\n",
    "Each file is known as a Comma Seperated Values or CSV file.  It has data that is seperated by commas and a header file at the top.  You can open up this data in any text editor and you can even open the Data in Excel as well.  However, we will use Python of course to analyze the data.  Let's look at a couple of lines of a CSV file.\n",
    "\n",
    "```\n",
    "Accel_X,Accel_Y,Accel_Z,Temp,Light\n",
    "1.532187,0.076609,9.193123,24.472902,36.000001\n",
    "```\n",
    "The first line is the header information.  This tells both anyone reading this file and Pandas what each column is.  In our case the acceleration for X is in the first column, then Y and finally Z.  Temperature is in the fourth column and light sensor data is in the fifth.\n",
    "\n",
    "Each file is for each group and the filename tells us which group number.  When we read in the data, we will want to keep track of which group we read in from.  We will ask you how well each group does, so I would suggest that you name the variable that you read the data into with a name that represents the group.\n",
    "\n",
    "### Pandas\n",
    "To read data with Pandas, we use the ```read_csv``` function in Pandas.  This will read the CSV file and store it into a variable that we name.  Most people use ```df``` or dataframe for this data, but you can call it whatever you want.  However, because Python support object oriented programming, we will use some of that here, so I would keep the name short so you do not have to type out a very long name later.  Here is an example of reading in a CSV file\n",
    "\n",
    "```Python\n",
    "df = pd.read_csv('Group1_eggdrop.csv')\n",
    "```\n",
    "\n",
    "Now duplicate this for the remaining four files.  Again, create a new name for each one and make sure you remember which variable name is for which group. \n",
    "\n",
    "This works for if the files are local.  But maybe the files are not on your computer.  Or, you are using somethink like Google Collabortory and it is easier to just download the data then to mess with Google Drive.  Well, we can also read data from an online source as well.  We did this in the lecture, where we downloaded data from a GitHub repository.  We can do the same thing here.  To do that, we use the following code.\n",
    "\n",
    "```Python\n",
    "df = pd.read_csv('https://raw.githubusercontent.com/matgyver/aere160s20eggdrophw/master/Group1_eggdrop.csv')\n",
    "df1 = pd.read_csv('https://raw.githubusercontent.com/matgyver/aere160s20eggdrophw/master/Group2_eggdrop.csv')\n",
    "df2 = pd.read_csv('https://raw.githubusercontent.com/matgyver/aere160s20eggdrophw/master/Group3_eggdrop.csv')\n",
    "df3 = pd.read_csv('https://raw.githubusercontent.com/matgyver/aere160s20eggdrophw/master/Group4_eggdrop.csv')\n",
    "df4 = pd.read_csv('https://raw.githubusercontent.com/matgyver/aere160s20eggdrophw/master/Group5_eggdrop.csv')\n",
    "```\n",
    "\n",
    "This works becuase I have already uploaded these files to my GitHub repository.  You don't need a GitHub account to access these as I have these in a public repository and I have provided the names of each file for you.\n",
    "\n",
    "<div class=\"alert alert-block alert-danger\"> If you deciede to read the files locally, make sure all the files are in the same directory as this notebook!</div>"
   ]
  },
  {
   "cell_type": "markdown",
   "metadata": {},
   "source": [
    "### Your turn\n",
    "Read in the data for each group.  Store each group in it's own dataframe.  You can name it however you wish, but please note that some parts of the code in this notebook is expecting ```df``` for the first dataset.  You can choose to either read the data from GitHub or read the data from the local file.  Please note, if you are using Google Collaboratory, I recommend you use the GitHub version.\n",
    "\n",
    "<div class=\"alert alert-block alert-info\">Total Points: 5 pts</div>"
   ]
  },
  {
   "cell_type": "code",
   "execution_count": null,
   "metadata": {
    "colab": {
     "base_uri": "https://localhost:8080/",
     "height": 278
    },
    "colab_type": "code",
    "id": "L7-YljAmM9EQ",
    "outputId": "4423e265-82ea-456d-982c-f5de9fcdb0cc"
   },
   "outputs": [],
   "source": [
    "# Read in all five CSV files provided.  Store them into their own variable\n",
    "# <INSERT YOUR CODE HERE>"
   ]
  },
  {
   "cell_type": "markdown",
   "metadata": {},
   "source": [
    "Now that we have the data, we can start working with the data.  Any easy to do that is to plot the data.   Plotting is pretty easy with Pandas.  But, we do need to know what the name of the column that we want to print is.  We do know this, but we looked at the header names.  \n",
    "\n",
    "To do a plot, we first call up a figure.  We can then call the dataframe directly.  If the first group CSV file you used stored the data into ```df``` then you simply call that dataframe, the name of the header and then plot to tell Python to plot it.  Let's plot the Accel_X data first.\n",
    "\n",
    "<div class=\"alert alert-block alert-danger\"> Note, you may need to change the df name if you changed the variable</div>"
   ]
  },
  {
   "cell_type": "code",
   "execution_count": null,
   "metadata": {},
   "outputs": [],
   "source": [
    "plt.figure()\n",
    "df.Accel_X.plot(figsize=(20, 20))"
   ]
  },
  {
   "cell_type": "markdown",
   "metadata": {},
   "source": [
    "Ok, let's plot all the data we have.  Plot the X, Y, and Z data on a graph.  I have provided code to plot the Temperature and Light and we will set that to a different axis on the right side.  Finally, let's save these graphs,  We can save our graphs using the ```savefig``` command.  We will save all of these as PDF files.  Let's call this one ```group1_all_data.pdf```.  Your save command should look like this\n",
    "\n",
    "```Python\n",
    "plt.savefig('group1_all_data.pdf',bbox_inchines='tight')\n",
    "```\n",
    "\n",
    "Call this as the very last thing in your code.  For Extra Credit, label each axis, add a legend and add a title to each graph."
   ]
  },
  {
   "cell_type": "markdown",
   "metadata": {},
   "source": [
    "### Your turn\n",
    "Graph the X, Y, and Z acceleration data.  Also graph the temperature and light data.  Use Pandas dataframe to graph this.  Graph each group and save the figure.  Extra Credit - Add a title, label each axis and add a legend to the graph.\n",
    "\n",
    "<div class=\"alert alert-block alert-info\"> Total points: 10 - Extra Credit: +5</div>"
   ]
  },
  {
   "cell_type": "code",
   "execution_count": null,
   "metadata": {
    "colab": {
     "base_uri": "https://localhost:8080/",
     "height": 300
    },
    "colab_type": "code",
    "id": "7d3fPQ9wOTRP",
    "outputId": "726706d4-af61-4b05-a82e-d7ccf0b40868"
   },
   "outputs": [],
   "source": [
    "fig = plt.figure(figsize=(20, 20))\n",
    "# Insert your code here\n"
   ]
  },
  {
   "cell_type": "markdown",
   "metadata": {},
   "source": [
    "Now, repeat this for each Group.  Remember, you will need to change the ```df``` to the next group name.  For myself, I just called it ```df1``` but again, you can name these whatever you want.  Also remember to change the filename you are saving these to otherwise you will just overwrite that file with new information.  For each graph, make sure name them with the correct group number."
   ]
  },
  {
   "cell_type": "code",
   "execution_count": null,
   "metadata": {},
   "outputs": [],
   "source": [
    "fig = plt.figure(figsize=(20, 20))\n",
    "# Insert your code here"
   ]
  },
  {
   "cell_type": "code",
   "execution_count": null,
   "metadata": {},
   "outputs": [],
   "source": [
    "fig = plt.figure(figsize=(20, 20))\n",
    "# Insert your code here"
   ]
  },
  {
   "cell_type": "code",
   "execution_count": null,
   "metadata": {},
   "outputs": [],
   "source": [
    "fig = plt.figure(figsize=(20, 20))\n",
    "# Insert your code here"
   ]
  },
  {
   "cell_type": "code",
   "execution_count": null,
   "metadata": {},
   "outputs": [],
   "source": [
    "fig = plt.figure(figsize=(20, 20))\n",
    "# Insert your code here"
   ]
  },
  {
   "cell_type": "markdown",
   "metadata": {},
   "source": [
    "As you can see, graphing the data this way isn't very clear.  In some of the data we have, the light data overpowers all of the other data.  We also have data with different values represented.  While it is fun to look at the data and see all of the various changes from group to group, let's work on making some better graphs and also determine if the eggs really did break.\n",
    "\n",
    "Let's focus on the acceleration data.  We have acceleration in the X, Y and Z direction.  What we really want though is the total magnitude of the acceleration.  Finding the magnitude is easy and we use the formula below to calculate it.  \n",
    "\n",
    "$mag = \\sqrt{X^2+Y^2+Z^2}$\n",
    "\n",
    "So, we take our data in the X, Y and Z direction and square each one.  We then take the square root.  Numpy has a square root function, which you can access with ```np.sqrt()```.  Remeber that with Python and Math we can something to the power by using ```**``` or for example ```df.Accel_X**2``` which takes our acceleration data in the X direction and squares it.  Remember, to access your data in Pandas, just use the variable name followed by a period and then the name of the column you want.  \n",
    "\n",
    "We need to do this for each row in our data.  We are not in a typical list or dictionary when we stored this data.  In fact, if you type in ```type(df)``` it will return ```ndarray```.  Pandas does store information differently then what we have done.  It is still however pretty easy to access this and as you might guess, we will need to use a loop to iterate through each row of our data.  I will help out by starting this for loop for you.\n",
    "\n",
    "```Python\n",
    "for index, row in df.iterrows():\n",
    "    temp=df.Temp\n",
    "```\n",
    "\n",
    "The example code above tells Python that we want to iterate through each row in the Pandas dataset.  This code will actually store the temperature data into a list called temp.  If we want to extract the data into a list, we can do that.  But what we want to do is calculate the magnitued.  This is left up to you.  Recall the equation I showed above and create the equation.  Notice that I have done this for each group dataset so you will need to copy and paste your code for each one.  Remember though, you need change ```df``` to the name for each respective group.  "
   ]
  },
  {
   "cell_type": "markdown",
   "metadata": {},
   "source": [
    "### Your turn\n",
    "Calculate the magnitude for each Group's data.  \n",
    "\n",
    "<div class=\"alert alert-block alert-info\"> Total points: 10  </div>"
   ]
  },
  {
   "cell_type": "code",
   "execution_count": null,
   "metadata": {
    "colab": {
     "base_uri": "https://localhost:8080/",
     "height": 434
    },
    "colab_type": "code",
    "id": "ytvwWr8JP9qM",
    "outputId": "aab13176-6874-4164-8f35-46d57cbcc2dc"
   },
   "outputs": [],
   "source": [
    "for index, row in df.iterrows():\n",
    "  # Insert your code here\n",
    "  temp = df.Temp\n",
    "  light = df.Light\n",
    "\n",
    "for index, row in df1.iterrows():\n",
    "  # Insert your code here\n",
    "  temp1 = df1.Temp\n",
    "  light1 = df1.Light\n",
    "\n",
    "for index, row in df2.iterrows():\n",
    "  # Insert your code here\n",
    "  temp2 = df2.Temp\n",
    "  light2 = df2.Light\n",
    "\n",
    "for index, row in df3.iterrows():\n",
    "  # Insert your code here\n",
    "  temp3 = df3.Temp\n",
    "  light3 = df3.Light\n",
    "\n",
    "for index, row in df4.iterrows():\n",
    "  # Insert your code here\n",
    "  temp4 = df4.Temp\n",
    "  light4 = df4.Light"
   ]
  },
  {
   "cell_type": "markdown",
   "metadata": {},
   "source": [
    "Ok, we have our acceleration.  Note that our acceleration is in $m/s^2$.  Also note that 1 G is 9.8 $m/s^2$.  Let's convert from $m/s^2$ to G's."
   ]
  },
  {
   "cell_type": "markdown",
   "metadata": {},
   "source": [
    "### Your turn\n",
    "Convert the magnitude in $m/s^2$ to G's.\n",
    "\n",
    "<div class=\"alert alert-block alert-info\"> Total points: 5  </div>"
   ]
  },
  {
   "cell_type": "code",
   "execution_count": null,
   "metadata": {},
   "outputs": [],
   "source": [
    "#Convert to G's\n"
   ]
  },
  {
   "cell_type": "markdown",
   "metadata": {},
   "source": [
    "Before we do any graphing, now that we our magnitude data, we can look for the maximum value and determine if any of the eggs exceeded this value.  We said in the writeup that we did not want to have the eggs exceed 2 G's.  However, let's give everyone a little bit of a break (pun intended).  Let's set the maximum value to be 2.5 G's.  \n",
    "\n",
    "To find the max value, we can use a function called ```max``` that will return the maximum value in a list. Let's store this information in another list called ```max_values```.  Now, we can use a for loop again to iterate through this list.  This is a normal list, so we do need to use the Pandas iterate function for this, just iterate through this like a normal list.\n",
    "\n",
    "Example:\n",
    "\n",
    "```Python\n",
    "max_values = max(grav)\n",
    "```\n",
    "\n",
    "We want to check if we have exceeded the maximum value.  This of course means that we are using an if statement to check this.  If the egg exceeded the value then do the following:\n",
    "```Python\n",
    "print('The egg broke and had a maximum G of\",i)\n",
    "```\n",
    "\n",
    "This is assuming you used ```i``` as the index in your for loop\n",
    "\n",
    "If you did not break, then print the following:\n",
    "```Python\n",
    "print(\"The egg did not break.  The G force was \",i)\n",
    "```\n",
    "\n",
    "Now we know which groups broke and which groups did not break.  By the way, we did program the E.G.G. with a similar value of around 2.5 G so this should match up to what the results of your group was."
   ]
  },
  {
   "cell_type": "markdown",
   "metadata": {},
   "source": [
    "### Your turn\n",
    "Find the maximum G value for each group and then determine if they broke the egg.\n",
    "\n",
    "<div class=\"alert alert-block alert-info\"> Total points: 10  </div>"
   ]
  },
  {
   "cell_type": "code",
   "execution_count": null,
   "metadata": {},
   "outputs": [],
   "source": [
    "# Did we break?\n",
    "g_max = 2.5\n",
    "\n",
    "# Find the maximum values in each \n",
    "max_values = #Insert your code here\n",
    "\n",
    "# Insert your for loop and if statements below\n"
   ]
  },
  {
   "cell_type": "markdown",
   "metadata": {},
   "source": [
    "Ok, we know which group broke and which one did not.  But this is only giving us a very small picture of the data.  Let's look at what is going on.  Let's graph the data.  We can look at acceleration and we can look at G's.  Let's look at acceleration for this exercise.  Plot the magnitude data.  We stored this value into ```mag``` and this is again a list, so we can just use regular matplotlib for this.  However, this time make sure you label the axis and add a title to the graph.  We are going to add one other thing though.  We are going to add a line that represents the breaking point for the egg.  This is easy to do with the following line of code:\n",
    "\n",
    "```Python\n",
    "plt.axhline(value, color='r', linestyle='--')\n",
    "```\n",
    "\n",
    "Here, value is the number that represents where our breaking point.  So you need to replace this with that number.  We said that it is 2.5 G's or 2.5 * 9.8 in our case.  \n",
    "\n",
    "Finally, make sure you save this figure.  Let's name it ```group1_break_graph.pdf```.  Again, we will repeat this for all groups and so change the name the location of the data you are pulling from accordingly.  "
   ]
  },
  {
   "cell_type": "markdown",
   "metadata": {},
   "source": [
    "### Your turn\n",
    "Graph the acceleration data for each group, but this time add a horizontal line that represents the breaking point.  \n",
    "<div class=\"alert alert-block alert-info\"> Total points: 10  </div>"
   ]
  },
  {
   "cell_type": "code",
   "execution_count": null,
   "metadata": {
    "colab": {
     "base_uri": "https://localhost:8080/",
     "height": 609
    },
    "colab_type": "code",
    "id": "VLP17FsrSOrh",
    "outputId": "2c9ca5f3-4351-422b-acb8-522e1cd21e6a"
   },
   "outputs": [],
   "source": [
    "fig = plt.figure(figsize=(20, 10))\n",
    "plt.plot(mag,label='Magnitude')\n",
    "plt.axhline(9.8*2.5, color='r', linestyle='--')\n",
    "plt.xlabel('Time')\n",
    "plt.ylabel('Acceleration in m/s^2')\n",
    "plt.title('Group 1 Drop Data with Break Line')\n",
    "plt.legend()\n",
    "plt.savefig(\"group1_break_graph.pdf\", bbox_inches='tight')"
   ]
  },
  {
   "cell_type": "code",
   "execution_count": null,
   "metadata": {},
   "outputs": [],
   "source": [
    "# Insert your code to graph Group 2"
   ]
  },
  {
   "cell_type": "code",
   "execution_count": null,
   "metadata": {},
   "outputs": [],
   "source": [
    "# Insert your code to graph Group 3"
   ]
  },
  {
   "cell_type": "code",
   "execution_count": null,
   "metadata": {
    "scrolled": true
   },
   "outputs": [],
   "source": [
    "# Insert your code to graph Group 4"
   ]
  },
  {
   "cell_type": "code",
   "execution_count": null,
   "metadata": {},
   "outputs": [],
   "source": [
    "# Insert your code to graph Group 5"
   ]
  },
  {
   "cell_type": "markdown",
   "metadata": {},
   "source": [
    "That is all for the required part of this homework.  There is some extra credit below that you may attempt if you wish."
   ]
  },
  {
   "cell_type": "markdown",
   "metadata": {},
   "source": [
    "### Extra Credit\n",
    "\n",
    "Graph the magnitude data, but this time graph both the acceleration in $m/s^2$ and in G's.  Graph these on the same graph.  Do this for all groups.\n",
    "\n",
    "<div class=\"alert alert-block alert-info\"> Extra credit points: 5  </div>"
   ]
  },
  {
   "cell_type": "code",
   "execution_count": null,
   "metadata": {
    "colab": {
     "base_uri": "https://localhost:8080/",
     "height": 638
    },
    "colab_type": "code",
    "id": "uyKRSb4_Nyig",
    "outputId": "264f33fd-5149-4a83-ee6d-86ad8e4f75df"
   },
   "outputs": [],
   "source": [
    "# Insert your code here"
   ]
  },
  {
   "cell_type": "code",
   "execution_count": null,
   "metadata": {},
   "outputs": [],
   "source": [
    "# Insert your code here"
   ]
  },
  {
   "cell_type": "code",
   "execution_count": null,
   "metadata": {},
   "outputs": [],
   "source": [
    "# Insert your code here"
   ]
  },
  {
   "cell_type": "code",
   "execution_count": null,
   "metadata": {},
   "outputs": [],
   "source": [
    "# Insert your code here"
   ]
  },
  {
   "cell_type": "code",
   "execution_count": null,
   "metadata": {},
   "outputs": [],
   "source": [
    "# Insert your code here"
   ]
  },
  {
   "cell_type": "markdown",
   "metadata": {},
   "source": [
    "### Extra Credit\n",
    "\n",
    "Graph the temperature and light data for one of the groups\n",
    "\n",
    "<div class=\"alert alert-block alert-info\"> Extra Credit points: 2  </div>"
   ]
  },
  {
   "cell_type": "code",
   "execution_count": null,
   "metadata": {
    "colab": {
     "base_uri": "https://localhost:8080/",
     "height": 609
    },
    "colab_type": "code",
    "id": "A_FivZioVLVc",
    "outputId": "68ee0fbf-321f-4d4b-d45e-4eda7568707c"
   },
   "outputs": [],
   "source": [
    "# Insert your code here"
   ]
  },
  {
   "cell_type": "code",
   "execution_count": null,
   "metadata": {
    "colab": {
     "base_uri": "https://localhost:8080/",
     "height": 609
    },
    "colab_type": "code",
    "id": "sEm2OlKjVPef",
    "outputId": "17a75cd2-9605-4f92-d8e6-3161396f5391"
   },
   "outputs": [],
   "source": [
    "# Insert your code here"
   ]
  },
  {
   "cell_type": "code",
   "execution_count": null,
   "metadata": {},
   "outputs": [],
   "source": []
  }
 ],
 "metadata": {
  "colab": {
   "name": "eggdrop analysis.ipynb",
   "provenance": []
  },
  "kernelspec": {
   "display_name": "Python 3",
   "language": "python",
   "name": "python3"
  },
  "language_info": {
   "codemirror_mode": {
    "name": "ipython",
    "version": 3
   },
   "file_extension": ".py",
   "mimetype": "text/x-python",
   "name": "python",
   "nbconvert_exporter": "python",
   "pygments_lexer": "ipython3",
   "version": "3.7.6"
  }
 },
 "nbformat": 4,
 "nbformat_minor": 1
}
